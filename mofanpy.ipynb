{
 "cells": [
  {
   "cell_type": "code",
   "execution_count": null,
   "metadata": {},
   "outputs": [],
   "source": [
    "import torch\n",
    "import numpy as np\n",
    "\n",
    "data = [-1,-2,3,8]\n",
    "floatData = torch.FloatTensor(data)\n",
    "\n",
    "print(\n",
    "    \"\\nfloatData\", floatData,\n",
    "    \"\\nmean\", torch.mean(floatData)\n",
    "    \n",
    ")"
   ]
  },
  {
   "cell_type": "code",
   "execution_count": null,
   "metadata": {},
   "outputs": [],
   "source": [
    "import torch\n",
    "import numpy as np\n",
    "\n",
    "data = [[-1,-2],[1,8]]\n",
    "floatData = torch.FloatTensor(data).reshape(-1)\n",
    "a = np.array(data)\n",
    "print(\n",
    "    \"\\nmm_numpy:\", a.dot(a),\n",
    "    \"\\ndot:\", floatData.dot(floatData)\n",
    ")"
   ]
  },
  {
   "cell_type": "code",
   "execution_count": null,
   "metadata": {},
   "outputs": [],
   "source": [
    "import torch\n",
    "import matplotlib\n",
    "matplotlib.use('TkAgg',force=True)\n",
    "from matplotlib import pyplot as plt\n",
    "import numpy as np\n",
    "\n",
    "\n",
    "x = torch.linspace(-5, 5, 200)\n",
    "x_np = x.numpy()\n",
    "relu_np = torch.relu(x).numpy()\n",
    "sigmoid_np = torch.sigmoid(x).numpy()\n",
    "tanh_np = torch.tanh(x).numpy()\n",
    "\n",
    "plt.figure(1,figsize=(6,8))\n",
    "plt.subplot(221)\n",
    "plt.plot(x_np,relu_np,c=\"red\", label=\"relu\")\n",
    "plt.ylim((-1,5))\n",
    "plt.legend(loc='best')\n",
    "\n",
    "# 这行代码会差生一个编号是2的新的窗口，figsize是窗口的大小\n",
    "plt.figure(2,figsize=(6,8))\n",
    "plt.subplot(222)\n",
    "plt.plot(x_np, sigmoid_np, c=\"green\", label=\"sigmoid\")\n",
    "# 设置纵坐标的范围\n",
    "plt.ylim((-1,5))\n",
    "plt.legend(loc='best')\n",
    "\n",
    "# 如果不设置新的figure，则会与上一个plot公用一个窗口\n",
    "# 这里如果也设置成222，则会跟sigmoid显示在同一个坐标系框架中\n",
    "plt.subplot(222)\n",
    "plt.plot(x_np, tanh_np, c=\"blue\", label=\"tanh\")\n",
    "plt.ylim((-1,5))\n",
    "plt.legend(loc='best')\n",
    "\n",
    "plt.show()\n",
    "\n"
   ]
  },
  {
   "cell_type": "code",
   "execution_count": 71,
   "metadata": {},
   "outputs": [],
   "source": [
    "import matplotlib.pyplot as plt\n",
    "import numpy as np\n",
    "\n",
    "#plot 1:\n",
    "x = np.array([0, 1, 2, 3])\n",
    "y = np.array([3, 8, 1, 10])\n",
    "# 第一个参数是横向上面放几个绘图，第二个参数是纵向放几个绘图，第三个参数是绘图的index\n",
    "plt.subplot(2, 1, 1)\n",
    "plt.plot(x,y)\n",
    "\n",
    "#plot 2:\n",
    "x = np.array([0, 1, 2, 3])\n",
    "y = np.array([10, 20, 30, 40])\n",
    "\n",
    "plt.subplot(2, 1, 2)\n",
    "plt.plot(x,y)\n",
    "\n",
    "plt.show()"
   ]
  },
  {
   "cell_type": "code",
   "execution_count": 94,
   "metadata": {},
   "outputs": [
    {
     "name": "stdout",
     "output_type": "stream",
     "text": [
      "torch.Size([3, 2, 2])\n"
     ]
    }
   ],
   "source": [
    "import torch\n",
    "\n",
    "# 使用Tensor和rand都可以\n",
    "data = torch.Tensor(3, 4,4)\n",
    "# 不重叠池化, 输出的数据, 数据量w h缩小一半\n",
    "pool = torch.nn.MaxPool2d(kernel_size=2,stride=2)\n",
    "data = pool(data)\n",
    "print(data.shape)"
   ]
  },
  {
   "cell_type": "code",
   "execution_count": null,
   "metadata": {},
   "outputs": [],
   "source": [
    "import torch\n",
    "import matplotlib\n",
    "matplotlib.use('TkAgg',force=True)\n",
    "from matplotlib import pyplot as plt\n",
    "import numpy as np\n",
    "\n",
    "# 已经不需要改成二维了\n",
    "x = torch.unsqueeze(torch.linspace(-1,1,100),1)\n",
    "#x = torch.linspace(-1,1,100)\n",
    "print(x)\n",
    "y = x.pow(2) + 0.2*torch.rand(x.size())\n",
    "\n",
    "# 不需要转换成numpy了\n",
    "plt.scatter(x,y)\n",
    "plt.show()\n"
   ]
  },
  {
   "cell_type": "code",
   "execution_count": null,
   "metadata": {},
   "outputs": [],
   "source": [
    "\n",
    "\n",
    "with plt.ion():\n",
    "    # interactive mode will be on\n",
    "    # figures will automatically be shown\n",
    "    fig2 = plt.figure()\n",
    "    # OFF就不会显示窗口了\n",
    "    plt.ioff()\n",
    "    fig = plt.figure()\n",
    "    \n",
    "    # This figure will not be shown immediately"
   ]
  },
  {
   "cell_type": "code",
   "execution_count": null,
   "metadata": {},
   "outputs": [],
   "source": [
    "import torch\n",
    "import matplotlib\n",
    "matplotlib.use('TkAgg',force=True)\n",
    "from matplotlib import pyplot as plt\n",
    "import numpy as np\n",
    "\n",
    "\n",
    "class Net(torch.nn.model):\n",
    "    def __init__(self):\n",
    "        super().__init__()\n",
    "    \n",
    "    def forward(self):\n",
    "        pass"
   ]
  },
  {
   "cell_type": "code",
   "execution_count": null,
   "metadata": {},
   "outputs": [],
   "source": [
    "import torch\n",
    "rang = torch.arange(1., 6.)\n",
    "print(\"range=\",rang)\n",
    "a1 = torch.normal(mean=0.5, std=torch.arange(1., 6.))\n",
    "print(\"a1: \", a1)\n",
    "print(\"a1 sum: \", torch.sum(a1))\n",
    "print(\"a1 mean: \", torch.mean(a1))\n",
    "\n",
    "a = torch.tensor([-1.2793, -1.0732, -2.0687,  5.1177, -1.2303])\n",
    "print(\"a: \",a)\n",
    "print(\"a mean: \",torch.mean(a))\n",
    "print(\"a sum: \", torch.sum(a))\n",
    "\n"
   ]
  }
 ],
 "metadata": {
  "kernelspec": {
   "display_name": "automatic",
   "language": "python",
   "name": "python3"
  },
  "language_info": {
   "codemirror_mode": {
    "name": "ipython",
    "version": 3
   },
   "file_extension": ".py",
   "mimetype": "text/x-python",
   "name": "python",
   "nbconvert_exporter": "python",
   "pygments_lexer": "ipython3",
   "version": "3.10.10"
  },
  "orig_nbformat": 4
 },
 "nbformat": 4,
 "nbformat_minor": 2
}
