{
 "cells": [
  {
   "cell_type": "code",
   "execution_count": null,
   "metadata": {},
   "outputs": [],
   "source": [
    "import torch\n",
    "import numpy as np\n",
    "\n",
    "data = [-1,-2,3,8]\n",
    "floatData = torch.FloatTensor(data)\n",
    "\n",
    "print(\n",
    "    \"\\nfloatData\", floatData,\n",
    "    \"\\nmean\", torch.mean(floatData)\n",
    "    \n",
    ")"
   ]
  },
  {
   "cell_type": "code",
   "execution_count": null,
   "metadata": {},
   "outputs": [],
   "source": [
    "import torch\n",
    "import numpy as np\n",
    "\n",
    "data = [[-1,-2],[1,8]]\n",
    "floatData = torch.FloatTensor(data).reshape(-1)\n",
    "a = np.array(data)\n",
    "print(\n",
    "    \"\\nmm_numpy:\", a.dot(a),\n",
    "    \"\\ndot:\", floatData.dot(floatData)\n",
    ")"
   ]
  },
  {
   "cell_type": "code",
   "execution_count": null,
   "metadata": {},
   "outputs": [],
   "source": [
    "import torch\n",
    "import matplotlib\n",
    "matplotlib.use('TkAgg',force=True)\n",
    "from matplotlib import pyplot as plt\n",
    "import numpy as np\n",
    "\n",
    "\n",
    "x = torch.linspace(-5, 5, 200)\n",
    "x_np = x.numpy()\n",
    "relu_np = torch.relu(x).numpy()\n",
    "sigmoid_np = torch.sigmoid(x).numpy()\n",
    "tanh_np = torch.tanh(x).numpy()\n",
    "\n",
    "plt.figure(1,figsize=(6,8))\n",
    "plt.subplot(221)\n",
    "plt.plot(x_np,relu_np,c=\"red\", label=\"relu\")\n",
    "plt.ylim((-1,5))\n",
    "plt.legend(loc='best')\n",
    "\n",
    "# 这行代码会差生一个编号是2的新的窗口，figsize是窗口的大小\n",
    "plt.figure(2,figsize=(6,8))\n",
    "plt.subplot(222)\n",
    "plt.plot(x_np, sigmoid_np, c=\"green\", label=\"sigmoid\")\n",
    "# 设置纵坐标的范围\n",
    "plt.ylim((-1,5))\n",
    "plt.legend(loc='best')\n",
    "\n",
    "# 如果不设置新的figure，则会与上一个plot公用一个窗口\n",
    "# 这里如果也设置成222，则会跟sigmoid显示在同一个坐标系框架中\n",
    "plt.subplot(222)\n",
    "plt.plot(x_np, tanh_np, c=\"blue\", label=\"tanh\")\n",
    "plt.ylim((-1,5))\n",
    "plt.legend(loc='best')\n",
    "\n",
    "plt.show()\n",
    "\n"
   ]
  },
  {
   "cell_type": "code",
   "execution_count": null,
   "metadata": {},
   "outputs": [],
   "source": [
    "import matplotlib.pyplot as plt\n",
    "import numpy as np\n",
    "\n",
    "#plot 1:\n",
    "x = np.array([0, 1, 2, 3])\n",
    "y = np.array([3, 8, 1, 10])\n",
    "# 第一个参数是横向上面放几个绘图，第二个参数是纵向放几个绘图，第三个参数是绘图的index\n",
    "plt.subplot(2, 1, 1)\n",
    "plt.plot(x,y)\n",
    "\n",
    "#plot 2:\n",
    "x = np.array([0, 1, 2, 3])\n",
    "y = np.array([10, 20, 30, 40])\n",
    "\n",
    "plt.subplot(2, 1, 2)\n",
    "plt.plot(x,y)\n",
    "\n",
    "plt.show()"
   ]
  },
  {
   "cell_type": "code",
   "execution_count": null,
   "metadata": {},
   "outputs": [],
   "source": [
    "import torch\n",
    "\n",
    "# 使用Tensor和rand都可以\n",
    "data = torch.Tensor(3, 4,4)\n",
    "# 不重叠池化, 输出的数据, 数据量w h缩小一半\n",
    "pool = torch.nn.MaxPool2d(kernel_size=2,stride=2)\n",
    "data = pool(data)\n",
    "print(data.shape)"
   ]
  },
  {
   "cell_type": "code",
   "execution_count": null,
   "metadata": {},
   "outputs": [],
   "source": [
    "import torch\n",
    "import matplotlib\n",
    "matplotlib.use('TkAgg',force=True)\n",
    "from matplotlib import pyplot as plt\n",
    "import numpy as np\n",
    "\n",
    "# 已经不需要改成二维了\n",
    "x = torch.unsqueeze(torch.linspace(-1,1,100),1)\n",
    "#x = torch.linspace(-1,1,100)\n",
    "print(x)\n",
    "y = x.pow(2) + 0.2*torch.rand(x.size())\n",
    "\n",
    "# 不需要转换成numpy了\n",
    "plt.scatter(x,y)\n",
    "plt.show()\n"
   ]
  },
  {
   "cell_type": "code",
   "execution_count": null,
   "metadata": {},
   "outputs": [],
   "source": [
    "\n",
    "\n",
    "with plt.ion():\n",
    "    # interactive mode will be on\n",
    "    # figures will automatically be shown\n",
    "    fig2 = plt.figure()\n",
    "    # OFF就不会显示窗口了\n",
    "    plt.ioff()\n",
    "    fig = plt.figure()\n",
    "    \n",
    "    # This figure will not be shown immediately"
   ]
  },
  {
   "cell_type": "code",
   "execution_count": null,
   "metadata": {},
   "outputs": [],
   "source": [
    "import torch\n",
    "import matplotlib\n",
    "matplotlib.use('TkAgg',force=True)\n",
    "from matplotlib import pyplot as plt\n",
    "import numpy as np\n",
    "\n",
    "\n",
    "class Net(torch.nn.model):\n",
    "    def __init__(self):\n",
    "        super().__init__()\n",
    "    \n",
    "    def forward(self):\n",
    "        pass"
   ]
  },
  {
   "cell_type": "code",
   "execution_count": null,
   "metadata": {},
   "outputs": [],
   "source": [
    "import torch\n",
    "rang = torch.arange(1., 6.)\n",
    "print(\"range=\",rang)\n",
    "a1 = torch.normal(mean=0.5, std=torch.arange(1., 6.))\n",
    "print(\"a1: \", a1)\n",
    "print(\"a1 sum: \", torch.sum(a1))\n",
    "print(\"a1 mean: \", torch.mean(a1))\n",
    "\n",
    "a = torch.tensor([-1.2793, -1.0732, -2.0687,  5.1177, -1.2303])\n",
    "print(\"a: \",a)\n",
    "print(\"a mean: \",torch.mean(a))\n",
    "print(\"a sum: \", torch.sum(a))"
   ]
  },
  {
   "cell_type": "code",
   "execution_count": null,
   "metadata": {},
   "outputs": [],
   "source": [
    "import torch\n",
    "\n",
    "x = torch.Tensor(2, 2, 3)\n",
    "x = x.view(2,-1)\n",
    "print(x)"
   ]
  },
  {
   "cell_type": "code",
   "execution_count": null,
   "metadata": {},
   "outputs": [],
   "source": [
    "import torch\n",
    "\n",
    "x = torch.Tensor(2, 2, 3)\n",
    "# 元素总数不匹配无法转换\n",
    "x = x.view(2,3)\n",
    "print(x)"
   ]
  },
  {
   "cell_type": "code",
   "execution_count": null,
   "metadata": {},
   "outputs": [],
   "source": [
    "import torch\n",
    "\n",
    "x = torch.Tensor(2,3,4)\n",
    "# 自动计算的维数只能有一个，即-1只能存在一个\n",
    "x = x.view(2,-1,-1)\n",
    "print(x)"
   ]
  },
  {
   "cell_type": "code",
   "execution_count": null,
   "metadata": {},
   "outputs": [],
   "source": [
    "import torch\n",
    "\n",
    "# 堆叠的两个张量。形状必须相同\n",
    "x = torch.Tensor([[1,2],\n",
    "                  [3,4]])\n",
    "y = torch.Tensor([[7,8],\n",
    "                  [9,0]])\n",
    "# dim是指按照第几个维度进行堆叠[[[]]]按照【的顺序，分别是第1 2 3维度. \n",
    "# 堆叠规则是先将原张量变换形状，然后再进行堆叠\n",
    "z = torch.stack((x,y),dim=1)\n",
    "print(z.shape)\n",
    "print(z)\n"
   ]
  },
  {
   "cell_type": "code",
   "execution_count": null,
   "metadata": {},
   "outputs": [],
   "source": [
    "import torch\n",
    "min = torch.linspace(-1, 1, steps=4)\n",
    "print(min)\n",
    "# 不改变元素数量，如果范围内会截断\n",
    "print(torch.clamp(min, min=0.5, max=1))"
   ]
  },
  {
   "cell_type": "code",
   "execution_count": null,
   "metadata": {},
   "outputs": [],
   "source": [
    "import torch\n",
    "\n",
    "x = torch.randn(2,3,4)\n",
    "print(x.shape)\n",
    "# 调整指定维度的位置，将第三个维度与第二个维度交换位置\n",
    "y = x.permute(0,2,1)\n",
    "print(y.shape)\n",
    "\n",
    "a = torch.randn(2,3)\n",
    "print(a)\n",
    "b = a.permute(1,0)\n",
    "print(b)\n",
    "c = b.permute(1,0)\n",
    "print(c)\n",
    "\n"
   ]
  },
  {
   "cell_type": "code",
   "execution_count": 2,
   "metadata": {},
   "outputs": [
    {
     "name": "stderr",
     "output_type": "stream",
     "text": [
      "/home/lowkey/miniconda3/envs/automatic/lib/python3.10/site-packages/torchvision/models/_utils.py:135: UserWarning: Using 'weights' as positional parameter(s) is deprecated since 0.13 and will be removed in 0.15. Please use keyword parameter(s) instead.\n",
      "  warnings.warn(\n",
      "/home/lowkey/miniconda3/envs/automatic/lib/python3.10/site-packages/torchvision/models/_utils.py:223: UserWarning: Arguments other than a weight enum or `None` for 'weights' are deprecated since 0.13 and will be removed in 0.15. The current behavior is equivalent to passing `weights=None`.\n",
      "  warnings.warn(msg)\n"
     ]
    }
   ],
   "source": [
    "import torch\n",
    "import torchvision\n",
    "from torch.utils.tensorboard import SummaryWriter\n",
    "from torchvision import datasets, transforms\n",
    "\n",
    "# Writer will output to ./runs/ directory by default\n",
    "writer = SummaryWriter()\n",
    "\n",
    "transform = transforms.Compose([transforms.ToTensor(), transforms.Normalize((0.5,), (0.5,))])\n",
    "trainset = datasets.MNIST('mnist', train=True, download=False, transform=transform)\n",
    "trainloader = torch.utils.data.DataLoader(trainset, batch_size=64, shuffle=True)\n",
    "model = torchvision.models.resnet50(False)\n",
    "# Have ResNet model take in grayscale rather than RGB\n",
    "model.conv1 = torch.nn.Conv2d(1, 64, kernel_size=7, stride=2, padding=3, bias=False)\n",
    "images, labels = next(iter(trainloader))\n",
    "\n",
    "grid = torchvision.utils.make_grid(images)\n",
    "# ui中增加一个images标签，用于显示图片\n",
    "writer.add_image('images', grid, 0)\n",
    "# ui中增加一个graph标签，用于显示模型结构\n",
    "writer.add_graph(model, images)\n",
    "writer.close()"
   ]
  }
 ],
 "metadata": {
  "kernelspec": {
   "display_name": "automatic",
   "language": "python",
   "name": "python3"
  },
  "language_info": {
   "codemirror_mode": {
    "name": "ipython",
    "version": 3
   },
   "file_extension": ".py",
   "mimetype": "text/x-python",
   "name": "python",
   "nbconvert_exporter": "python",
   "pygments_lexer": "ipython3",
   "version": "3.10.10"
  },
  "orig_nbformat": 4
 },
 "nbformat": 4,
 "nbformat_minor": 2
}
